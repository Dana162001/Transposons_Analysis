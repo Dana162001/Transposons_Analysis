{
 "cells": [
  {
   "cell_type": "code",
   "execution_count": 1,
   "id": "f6051d80",
   "metadata": {
    "pycharm": {
     "name": "#%%\n"
    }
   },
   "outputs": [],
   "source": [
    "import pandas as pd"
   ]
  },
  {
   "cell_type": "code",
   "execution_count": 2,
   "id": "8f4fd313",
   "metadata": {
    "pycharm": {
     "name": "#%%\n"
    }
   },
   "outputs": [],
   "source": [
    "path_fmt = '/home/dana/Desktop/p_sa/results/rpsblast/20/res_fmt_len.csv'"
   ]
  },
  {
   "cell_type": "code",
   "execution_count": 3,
   "id": "b168dab2",
   "metadata": {
    "pycharm": {
     "name": "#%%\n"
    }
   },
   "outputs": [
    {
     "data": {
      "text/plain": "                                  qseqid  qstart  qend  qlen          sseqid  \\\n0     0.GCA_000009005.1_ASM900v1_genomic       7   448   453  gnl|CDD|223666   \n1     0.GCA_000009005.1_ASM900v1_genomic     118   262   453  gnl|CDD|224401   \n2     0.GCA_000009005.1_ASM900v1_genomic     226   388   453  gnl|CDD|224383   \n3     0.GCA_000009005.1_ASM900v1_genomic     152   270   453  gnl|CDD|224402   \n4     0.GCA_000009005.1_ASM900v1_genomic     152   350   453  gnl|CDD|223540   \n..                                   ...     ...   ...   ...             ...   \n891  5.GCA_900474755.1_41236_E02_genomic      16    51   113  gnl|CDD|223925   \n892  5.GCA_900474755.1_41236_E02_genomic      28    50   113  gnl|CDD|225107   \n893  5.GCA_900474755.1_41236_E02_genomic      24    50   113  gnl|CDD|225461   \n894  5.GCA_900474755.1_41236_E02_genomic      33    55   113  gnl|CDD|226639   \n895  5.GCA_900474755.1_41236_E02_genomic      78   107   113  gnl|CDD|223092   \n\n     sstart  send  slen        evalue   ppos  \n0         1   408   408  0.000000e+00  47.74  \n1        72   216   254  2.790000e-11  20.81  \n2        87   228   334  1.110000e-04  13.87  \n3        68   185   367  1.320000e-04  21.17  \n4       279   483   494  2.870000e-04  19.37  \n..      ...   ...   ...           ...    ...  \n891       3    37   203  2.000000e-03  40.54  \n892     161   182   211  2.600000e-02  56.52  \n893     840   865   894  1.700000e+00  44.44  \n894     105   129   330  3.200000e+00  24.00  \n895     729   758   879  3.700000e+00  40.00  \n\n[896 rows x 10 columns]",
      "text/html": "<div>\n<style scoped>\n    .dataframe tbody tr th:only-of-type {\n        vertical-align: middle;\n    }\n\n    .dataframe tbody tr th {\n        vertical-align: top;\n    }\n\n    .dataframe thead th {\n        text-align: right;\n    }\n</style>\n<table border=\"1\" class=\"dataframe\">\n  <thead>\n    <tr style=\"text-align: right;\">\n      <th></th>\n      <th>qseqid</th>\n      <th>qstart</th>\n      <th>qend</th>\n      <th>qlen</th>\n      <th>sseqid</th>\n      <th>sstart</th>\n      <th>send</th>\n      <th>slen</th>\n      <th>evalue</th>\n      <th>ppos</th>\n    </tr>\n  </thead>\n  <tbody>\n    <tr>\n      <th>0</th>\n      <td>0.GCA_000009005.1_ASM900v1_genomic</td>\n      <td>7</td>\n      <td>448</td>\n      <td>453</td>\n      <td>gnl|CDD|223666</td>\n      <td>1</td>\n      <td>408</td>\n      <td>408</td>\n      <td>0.000000e+00</td>\n      <td>47.74</td>\n    </tr>\n    <tr>\n      <th>1</th>\n      <td>0.GCA_000009005.1_ASM900v1_genomic</td>\n      <td>118</td>\n      <td>262</td>\n      <td>453</td>\n      <td>gnl|CDD|224401</td>\n      <td>72</td>\n      <td>216</td>\n      <td>254</td>\n      <td>2.790000e-11</td>\n      <td>20.81</td>\n    </tr>\n    <tr>\n      <th>2</th>\n      <td>0.GCA_000009005.1_ASM900v1_genomic</td>\n      <td>226</td>\n      <td>388</td>\n      <td>453</td>\n      <td>gnl|CDD|224383</td>\n      <td>87</td>\n      <td>228</td>\n      <td>334</td>\n      <td>1.110000e-04</td>\n      <td>13.87</td>\n    </tr>\n    <tr>\n      <th>3</th>\n      <td>0.GCA_000009005.1_ASM900v1_genomic</td>\n      <td>152</td>\n      <td>270</td>\n      <td>453</td>\n      <td>gnl|CDD|224402</td>\n      <td>68</td>\n      <td>185</td>\n      <td>367</td>\n      <td>1.320000e-04</td>\n      <td>21.17</td>\n    </tr>\n    <tr>\n      <th>4</th>\n      <td>0.GCA_000009005.1_ASM900v1_genomic</td>\n      <td>152</td>\n      <td>350</td>\n      <td>453</td>\n      <td>gnl|CDD|223540</td>\n      <td>279</td>\n      <td>483</td>\n      <td>494</td>\n      <td>2.870000e-04</td>\n      <td>19.37</td>\n    </tr>\n    <tr>\n      <th>...</th>\n      <td>...</td>\n      <td>...</td>\n      <td>...</td>\n      <td>...</td>\n      <td>...</td>\n      <td>...</td>\n      <td>...</td>\n      <td>...</td>\n      <td>...</td>\n      <td>...</td>\n    </tr>\n    <tr>\n      <th>891</th>\n      <td>5.GCA_900474755.1_41236_E02_genomic</td>\n      <td>16</td>\n      <td>51</td>\n      <td>113</td>\n      <td>gnl|CDD|223925</td>\n      <td>3</td>\n      <td>37</td>\n      <td>203</td>\n      <td>2.000000e-03</td>\n      <td>40.54</td>\n    </tr>\n    <tr>\n      <th>892</th>\n      <td>5.GCA_900474755.1_41236_E02_genomic</td>\n      <td>28</td>\n      <td>50</td>\n      <td>113</td>\n      <td>gnl|CDD|225107</td>\n      <td>161</td>\n      <td>182</td>\n      <td>211</td>\n      <td>2.600000e-02</td>\n      <td>56.52</td>\n    </tr>\n    <tr>\n      <th>893</th>\n      <td>5.GCA_900474755.1_41236_E02_genomic</td>\n      <td>24</td>\n      <td>50</td>\n      <td>113</td>\n      <td>gnl|CDD|225461</td>\n      <td>840</td>\n      <td>865</td>\n      <td>894</td>\n      <td>1.700000e+00</td>\n      <td>44.44</td>\n    </tr>\n    <tr>\n      <th>894</th>\n      <td>5.GCA_900474755.1_41236_E02_genomic</td>\n      <td>33</td>\n      <td>55</td>\n      <td>113</td>\n      <td>gnl|CDD|226639</td>\n      <td>105</td>\n      <td>129</td>\n      <td>330</td>\n      <td>3.200000e+00</td>\n      <td>24.00</td>\n    </tr>\n    <tr>\n      <th>895</th>\n      <td>5.GCA_900474755.1_41236_E02_genomic</td>\n      <td>78</td>\n      <td>107</td>\n      <td>113</td>\n      <td>gnl|CDD|223092</td>\n      <td>729</td>\n      <td>758</td>\n      <td>879</td>\n      <td>3.700000e+00</td>\n      <td>40.00</td>\n    </tr>\n  </tbody>\n</table>\n<p>896 rows × 10 columns</p>\n</div>"
     },
     "execution_count": 3,
     "metadata": {},
     "output_type": "execute_result"
    }
   ],
   "source": [
    "df = pd.read_table(path_fmt, header=None, names=[\"qseqid\",\"qstart\",\"qend\", \"qlen\",\"sseqid\", \"sstart\", \"send\", \"slen\",\"evalue\", \"ppos\"])\n",
    "df"
   ]
  },
  {
   "cell_type": "code",
   "execution_count": 4,
   "id": "12a3bd36",
   "metadata": {
    "pycharm": {
     "name": "#%%\n"
    }
   },
   "outputs": [
    {
     "data": {
      "text/plain": "                                  qseqid  qstart  qend  qlen          sseqid  \\\n0     0.GCA_000009005.1_ASM900v1_genomic       7   448   453  gnl|CDD|223666   \n1     0.GCA_000009005.1_ASM900v1_genomic     118   262   453  gnl|CDD|224401   \n2     0.GCA_000009005.1_ASM900v1_genomic     226   388   453  gnl|CDD|224383   \n3     0.GCA_000009005.1_ASM900v1_genomic     152   270   453  gnl|CDD|224402   \n4     0.GCA_000009005.1_ASM900v1_genomic     152   350   453  gnl|CDD|223540   \n..                                   ...     ...   ...   ...             ...   \n891  5.GCA_900474755.1_41236_E02_genomic      16    51   113  gnl|CDD|223925   \n892  5.GCA_900474755.1_41236_E02_genomic      28    50   113  gnl|CDD|225107   \n893  5.GCA_900474755.1_41236_E02_genomic      24    50   113  gnl|CDD|225461   \n894  5.GCA_900474755.1_41236_E02_genomic      33    55   113  gnl|CDD|226639   \n895  5.GCA_900474755.1_41236_E02_genomic      78   107   113  gnl|CDD|223092   \n\n     sstart  send  slen        evalue   ppos  slen_2  qlen_2  \n0         1   408   408  0.000000e+00  47.74     407     441  \n1        72   216   254  2.790000e-11  20.81     144     144  \n2        87   228   334  1.110000e-04  13.87     141     162  \n3        68   185   367  1.320000e-04  21.17     117     118  \n4       279   483   494  2.870000e-04  19.37     204     198  \n..      ...   ...   ...           ...    ...     ...     ...  \n891       3    37   203  2.000000e-03  40.54      34      35  \n892     161   182   211  2.600000e-02  56.52      21      22  \n893     840   865   894  1.700000e+00  44.44      25      26  \n894     105   129   330  3.200000e+00  24.00      24      22  \n895     729   758   879  3.700000e+00  40.00      29      29  \n\n[896 rows x 12 columns]",
      "text/html": "<div>\n<style scoped>\n    .dataframe tbody tr th:only-of-type {\n        vertical-align: middle;\n    }\n\n    .dataframe tbody tr th {\n        vertical-align: top;\n    }\n\n    .dataframe thead th {\n        text-align: right;\n    }\n</style>\n<table border=\"1\" class=\"dataframe\">\n  <thead>\n    <tr style=\"text-align: right;\">\n      <th></th>\n      <th>qseqid</th>\n      <th>qstart</th>\n      <th>qend</th>\n      <th>qlen</th>\n      <th>sseqid</th>\n      <th>sstart</th>\n      <th>send</th>\n      <th>slen</th>\n      <th>evalue</th>\n      <th>ppos</th>\n      <th>slen_2</th>\n      <th>qlen_2</th>\n    </tr>\n  </thead>\n  <tbody>\n    <tr>\n      <th>0</th>\n      <td>0.GCA_000009005.1_ASM900v1_genomic</td>\n      <td>7</td>\n      <td>448</td>\n      <td>453</td>\n      <td>gnl|CDD|223666</td>\n      <td>1</td>\n      <td>408</td>\n      <td>408</td>\n      <td>0.000000e+00</td>\n      <td>47.74</td>\n      <td>407</td>\n      <td>441</td>\n    </tr>\n    <tr>\n      <th>1</th>\n      <td>0.GCA_000009005.1_ASM900v1_genomic</td>\n      <td>118</td>\n      <td>262</td>\n      <td>453</td>\n      <td>gnl|CDD|224401</td>\n      <td>72</td>\n      <td>216</td>\n      <td>254</td>\n      <td>2.790000e-11</td>\n      <td>20.81</td>\n      <td>144</td>\n      <td>144</td>\n    </tr>\n    <tr>\n      <th>2</th>\n      <td>0.GCA_000009005.1_ASM900v1_genomic</td>\n      <td>226</td>\n      <td>388</td>\n      <td>453</td>\n      <td>gnl|CDD|224383</td>\n      <td>87</td>\n      <td>228</td>\n      <td>334</td>\n      <td>1.110000e-04</td>\n      <td>13.87</td>\n      <td>141</td>\n      <td>162</td>\n    </tr>\n    <tr>\n      <th>3</th>\n      <td>0.GCA_000009005.1_ASM900v1_genomic</td>\n      <td>152</td>\n      <td>270</td>\n      <td>453</td>\n      <td>gnl|CDD|224402</td>\n      <td>68</td>\n      <td>185</td>\n      <td>367</td>\n      <td>1.320000e-04</td>\n      <td>21.17</td>\n      <td>117</td>\n      <td>118</td>\n    </tr>\n    <tr>\n      <th>4</th>\n      <td>0.GCA_000009005.1_ASM900v1_genomic</td>\n      <td>152</td>\n      <td>350</td>\n      <td>453</td>\n      <td>gnl|CDD|223540</td>\n      <td>279</td>\n      <td>483</td>\n      <td>494</td>\n      <td>2.870000e-04</td>\n      <td>19.37</td>\n      <td>204</td>\n      <td>198</td>\n    </tr>\n    <tr>\n      <th>...</th>\n      <td>...</td>\n      <td>...</td>\n      <td>...</td>\n      <td>...</td>\n      <td>...</td>\n      <td>...</td>\n      <td>...</td>\n      <td>...</td>\n      <td>...</td>\n      <td>...</td>\n      <td>...</td>\n      <td>...</td>\n    </tr>\n    <tr>\n      <th>891</th>\n      <td>5.GCA_900474755.1_41236_E02_genomic</td>\n      <td>16</td>\n      <td>51</td>\n      <td>113</td>\n      <td>gnl|CDD|223925</td>\n      <td>3</td>\n      <td>37</td>\n      <td>203</td>\n      <td>2.000000e-03</td>\n      <td>40.54</td>\n      <td>34</td>\n      <td>35</td>\n    </tr>\n    <tr>\n      <th>892</th>\n      <td>5.GCA_900474755.1_41236_E02_genomic</td>\n      <td>28</td>\n      <td>50</td>\n      <td>113</td>\n      <td>gnl|CDD|225107</td>\n      <td>161</td>\n      <td>182</td>\n      <td>211</td>\n      <td>2.600000e-02</td>\n      <td>56.52</td>\n      <td>21</td>\n      <td>22</td>\n    </tr>\n    <tr>\n      <th>893</th>\n      <td>5.GCA_900474755.1_41236_E02_genomic</td>\n      <td>24</td>\n      <td>50</td>\n      <td>113</td>\n      <td>gnl|CDD|225461</td>\n      <td>840</td>\n      <td>865</td>\n      <td>894</td>\n      <td>1.700000e+00</td>\n      <td>44.44</td>\n      <td>25</td>\n      <td>26</td>\n    </tr>\n    <tr>\n      <th>894</th>\n      <td>5.GCA_900474755.1_41236_E02_genomic</td>\n      <td>33</td>\n      <td>55</td>\n      <td>113</td>\n      <td>gnl|CDD|226639</td>\n      <td>105</td>\n      <td>129</td>\n      <td>330</td>\n      <td>3.200000e+00</td>\n      <td>24.00</td>\n      <td>24</td>\n      <td>22</td>\n    </tr>\n    <tr>\n      <th>895</th>\n      <td>5.GCA_900474755.1_41236_E02_genomic</td>\n      <td>78</td>\n      <td>107</td>\n      <td>113</td>\n      <td>gnl|CDD|223092</td>\n      <td>729</td>\n      <td>758</td>\n      <td>879</td>\n      <td>3.700000e+00</td>\n      <td>40.00</td>\n      <td>29</td>\n      <td>29</td>\n    </tr>\n  </tbody>\n</table>\n<p>896 rows × 12 columns</p>\n</div>"
     },
     "execution_count": 4,
     "metadata": {},
     "output_type": "execute_result"
    }
   ],
   "source": [
    "df['slen_2'] = df.apply(lambda x: x['send'] - x['sstart'], axis=1)\n",
    "df['qlen_2'] = df.apply(lambda x: x['qend'] - x['qstart'], axis=1)\n",
    "df"
   ]
  },
  {
   "cell_type": "code",
   "execution_count": 5,
   "id": "d8947adb",
   "metadata": {
    "pycharm": {
     "name": "#%%\n"
    }
   },
   "outputs": [
    {
     "data": {
      "text/plain": "                                  qseqid  qstart  qend  qlen          sseqid  \\\n0     0.GCA_000009005.1_ASM900v1_genomic       7   448   453  gnl|CDD|223666   \n1     0.GCA_000009005.1_ASM900v1_genomic     118   262   453  gnl|CDD|224401   \n2     0.GCA_000009005.1_ASM900v1_genomic     226   388   453  gnl|CDD|224383   \n3     0.GCA_000009005.1_ASM900v1_genomic     152   270   453  gnl|CDD|224402   \n4     0.GCA_000009005.1_ASM900v1_genomic     152   350   453  gnl|CDD|223540   \n..                                   ...     ...   ...   ...             ...   \n891  5.GCA_900474755.1_41236_E02_genomic      16    51   113  gnl|CDD|223925   \n892  5.GCA_900474755.1_41236_E02_genomic      28    50   113  gnl|CDD|225107   \n893  5.GCA_900474755.1_41236_E02_genomic      24    50   113  gnl|CDD|225461   \n894  5.GCA_900474755.1_41236_E02_genomic      33    55   113  gnl|CDD|226639   \n895  5.GCA_900474755.1_41236_E02_genomic      78   107   113  gnl|CDD|223092   \n\n     sstart  send  slen        evalue   ppos  slen_2  qlen_2      qcov  \\\n0         1   408   408  0.000000e+00  47.74     407     441  0.975717   \n1        72   216   254  2.790000e-11  20.81     144     144  0.320088   \n2        87   228   334  1.110000e-04  13.87     141     162  0.359823   \n3        68   185   367  1.320000e-04  21.17     117     118  0.262693   \n4       279   483   494  2.870000e-04  19.37     204     198  0.439294   \n..      ...   ...   ...           ...    ...     ...     ...       ...   \n891       3    37   203  2.000000e-03  40.54      34      35  0.318584   \n892     161   182   211  2.600000e-02  56.52      21      22  0.203540   \n893     840   865   894  1.700000e+00  44.44      25      26  0.238938   \n894     105   129   330  3.200000e+00  24.00      24      22  0.203540   \n895     729   758   879  3.700000e+00  40.00      29      29  0.265487   \n\n         scov  \n0    1.000000  \n1    0.570866  \n2    0.425150  \n3    0.321526  \n4    0.414980  \n..        ...  \n891  0.172414  \n892  0.104265  \n893  0.029083  \n894  0.075758  \n895  0.034130  \n\n[896 rows x 14 columns]",
      "text/html": "<div>\n<style scoped>\n    .dataframe tbody tr th:only-of-type {\n        vertical-align: middle;\n    }\n\n    .dataframe tbody tr th {\n        vertical-align: top;\n    }\n\n    .dataframe thead th {\n        text-align: right;\n    }\n</style>\n<table border=\"1\" class=\"dataframe\">\n  <thead>\n    <tr style=\"text-align: right;\">\n      <th></th>\n      <th>qseqid</th>\n      <th>qstart</th>\n      <th>qend</th>\n      <th>qlen</th>\n      <th>sseqid</th>\n      <th>sstart</th>\n      <th>send</th>\n      <th>slen</th>\n      <th>evalue</th>\n      <th>ppos</th>\n      <th>slen_2</th>\n      <th>qlen_2</th>\n      <th>qcov</th>\n      <th>scov</th>\n    </tr>\n  </thead>\n  <tbody>\n    <tr>\n      <th>0</th>\n      <td>0.GCA_000009005.1_ASM900v1_genomic</td>\n      <td>7</td>\n      <td>448</td>\n      <td>453</td>\n      <td>gnl|CDD|223666</td>\n      <td>1</td>\n      <td>408</td>\n      <td>408</td>\n      <td>0.000000e+00</td>\n      <td>47.74</td>\n      <td>407</td>\n      <td>441</td>\n      <td>0.975717</td>\n      <td>1.000000</td>\n    </tr>\n    <tr>\n      <th>1</th>\n      <td>0.GCA_000009005.1_ASM900v1_genomic</td>\n      <td>118</td>\n      <td>262</td>\n      <td>453</td>\n      <td>gnl|CDD|224401</td>\n      <td>72</td>\n      <td>216</td>\n      <td>254</td>\n      <td>2.790000e-11</td>\n      <td>20.81</td>\n      <td>144</td>\n      <td>144</td>\n      <td>0.320088</td>\n      <td>0.570866</td>\n    </tr>\n    <tr>\n      <th>2</th>\n      <td>0.GCA_000009005.1_ASM900v1_genomic</td>\n      <td>226</td>\n      <td>388</td>\n      <td>453</td>\n      <td>gnl|CDD|224383</td>\n      <td>87</td>\n      <td>228</td>\n      <td>334</td>\n      <td>1.110000e-04</td>\n      <td>13.87</td>\n      <td>141</td>\n      <td>162</td>\n      <td>0.359823</td>\n      <td>0.425150</td>\n    </tr>\n    <tr>\n      <th>3</th>\n      <td>0.GCA_000009005.1_ASM900v1_genomic</td>\n      <td>152</td>\n      <td>270</td>\n      <td>453</td>\n      <td>gnl|CDD|224402</td>\n      <td>68</td>\n      <td>185</td>\n      <td>367</td>\n      <td>1.320000e-04</td>\n      <td>21.17</td>\n      <td>117</td>\n      <td>118</td>\n      <td>0.262693</td>\n      <td>0.321526</td>\n    </tr>\n    <tr>\n      <th>4</th>\n      <td>0.GCA_000009005.1_ASM900v1_genomic</td>\n      <td>152</td>\n      <td>350</td>\n      <td>453</td>\n      <td>gnl|CDD|223540</td>\n      <td>279</td>\n      <td>483</td>\n      <td>494</td>\n      <td>2.870000e-04</td>\n      <td>19.37</td>\n      <td>204</td>\n      <td>198</td>\n      <td>0.439294</td>\n      <td>0.414980</td>\n    </tr>\n    <tr>\n      <th>...</th>\n      <td>...</td>\n      <td>...</td>\n      <td>...</td>\n      <td>...</td>\n      <td>...</td>\n      <td>...</td>\n      <td>...</td>\n      <td>...</td>\n      <td>...</td>\n      <td>...</td>\n      <td>...</td>\n      <td>...</td>\n      <td>...</td>\n      <td>...</td>\n    </tr>\n    <tr>\n      <th>891</th>\n      <td>5.GCA_900474755.1_41236_E02_genomic</td>\n      <td>16</td>\n      <td>51</td>\n      <td>113</td>\n      <td>gnl|CDD|223925</td>\n      <td>3</td>\n      <td>37</td>\n      <td>203</td>\n      <td>2.000000e-03</td>\n      <td>40.54</td>\n      <td>34</td>\n      <td>35</td>\n      <td>0.318584</td>\n      <td>0.172414</td>\n    </tr>\n    <tr>\n      <th>892</th>\n      <td>5.GCA_900474755.1_41236_E02_genomic</td>\n      <td>28</td>\n      <td>50</td>\n      <td>113</td>\n      <td>gnl|CDD|225107</td>\n      <td>161</td>\n      <td>182</td>\n      <td>211</td>\n      <td>2.600000e-02</td>\n      <td>56.52</td>\n      <td>21</td>\n      <td>22</td>\n      <td>0.203540</td>\n      <td>0.104265</td>\n    </tr>\n    <tr>\n      <th>893</th>\n      <td>5.GCA_900474755.1_41236_E02_genomic</td>\n      <td>24</td>\n      <td>50</td>\n      <td>113</td>\n      <td>gnl|CDD|225461</td>\n      <td>840</td>\n      <td>865</td>\n      <td>894</td>\n      <td>1.700000e+00</td>\n      <td>44.44</td>\n      <td>25</td>\n      <td>26</td>\n      <td>0.238938</td>\n      <td>0.029083</td>\n    </tr>\n    <tr>\n      <th>894</th>\n      <td>5.GCA_900474755.1_41236_E02_genomic</td>\n      <td>33</td>\n      <td>55</td>\n      <td>113</td>\n      <td>gnl|CDD|226639</td>\n      <td>105</td>\n      <td>129</td>\n      <td>330</td>\n      <td>3.200000e+00</td>\n      <td>24.00</td>\n      <td>24</td>\n      <td>22</td>\n      <td>0.203540</td>\n      <td>0.075758</td>\n    </tr>\n    <tr>\n      <th>895</th>\n      <td>5.GCA_900474755.1_41236_E02_genomic</td>\n      <td>78</td>\n      <td>107</td>\n      <td>113</td>\n      <td>gnl|CDD|223092</td>\n      <td>729</td>\n      <td>758</td>\n      <td>879</td>\n      <td>3.700000e+00</td>\n      <td>40.00</td>\n      <td>29</td>\n      <td>29</td>\n      <td>0.265487</td>\n      <td>0.034130</td>\n    </tr>\n  </tbody>\n</table>\n<p>896 rows × 14 columns</p>\n</div>"
     },
     "execution_count": 5,
     "metadata": {},
     "output_type": "execute_result"
    }
   ],
   "source": [
    "df['qcov'] = df.apply(lambda x: (x['qlen_2']+1)/x['qlen'], axis=1)\n",
    "df['scov'] = df.apply(lambda x: (x['slen_2']+1)/x['slen'], axis=1)\n",
    "df"
   ]
  },
  {
   "cell_type": "code",
   "execution_count": 6,
   "id": "e31c4fa8",
   "metadata": {
    "pycharm": {
     "name": "#%%\n"
    }
   },
   "outputs": [
    {
     "data": {
      "text/plain": "                                     qseqid  qstart  qend  qlen  \\\n0        0.GCA_000009005.1_ASM900v1_genomic       7   448   453   \n26       2.GCA_000009005.1_ASM900v1_genomic       1   217   224   \n40       7.GCA_000009005.1_ASM900v1_genomic       9   456   466   \n75       8.GCA_000009645.1_ASM964v1_genomic      40   348   361   \n76       8.GCA_000009645.1_ASM964v1_genomic      20   360   361   \n77       8.GCA_000009645.1_ASM964v1_genomic      25   344   361   \n83      16.GCA_000009665.1_ASM966v1_genomic       5   393   396   \n89      19.GCA_000009665.1_ASM966v1_genomic      48   260   261   \n117     6.GCA_000010465.1_ASM1046v1_genomic      38   256   259   \n154    40.GCA_000010465.1_ASM1046v1_genomic       1    92   104   \n164    42.GCA_000010465.1_ASM1046v1_genomic      15   163   178   \n166     6.GCA_000011505.1_ASM1150v1_genomic      40   260   268   \n181     9.GCA_000011505.1_ASM1150v1_genomic      10   103   115   \n203    35.GCA_000011505.1_ASM1150v1_genomic       1   189   197   \n277     4.GCA_000017085.1_ASM1708v1_genomic      43   280   283   \n283    10.GCA_000027045.1_ASM2704v1_genomic       5   240   242   \n321    13.GCA_000027045.1_ASM2704v1_genomic      12   375   390   \n327   25.GCA_000159535.2_ASM15953v2_genomic      48   313   313   \n358   17.GCA_000160335.2_ASM16033v2_genomic      14   327   328   \n427   26.GCA_000237125.3_ASM23712v3_genomic       3   219   228   \n436    5.GCA_000284535.1_ASM28453v1_genomic       1   249   255   \n455   34.GCA_000284535.1_ASM28453v1_genomic       7   251   260   \n472   10.GCA_000382965.1_ASM38296v1_genomic      24   266   266   \n483    7.GCA_000418345.1_ASM41834v1_genomic       3   270   271   \n509   70.GCA_000418345.1_ASM41834v1_genomic       1   171   171   \n536    8.GCA_000626615.3_ASM62661v3_genomic       4   170   171   \n538   13.GCA_000769575.1_ASM76957v1_genomic      13   432   465   \n611   6.GCA_001018835.2_ASM101883v2_genomic       3   160   178   \n620  19.GCA_001018845.2_ASM101884v2_genomic       1    34    40   \n621  19.GCA_001018845.2_ASM101884v2_genomic       3    38    40   \n633   6.GCA_001444345.1_ASM144434v1_genomic       1    59    64   \n646   1.GCA_001515665.1_ASM151566v1_genomic       3   121   128   \n655   3.GCA_001548295.1_ASM154829v1_genomic       1    89   102   \n659  13.GCA_001640905.1_ASM164090v1_genomic       1   314   319   \n665   4.GCA_001956755.1_ASM195675v1_genomic      10   356   364   \n763  26.GCA_004771335.1_ASM477133v1_genomic       2   122   133   \n818  1.GCA_014696415.1_ASM1469641v1_genomic      46   419   450   \n827  0.GCA_019551175.1_ASM1955117v1_genomic       3    75    81   \n832  0.GCA_019551175.1_ASM1955117v1_genomic       8    72    81   \n835  0.GCA_019551175.1_ASM1955117v1_genomic       8    81    81   \n\n             sseqid  sstart  send  slen         evalue   ppos  slen_2  qlen_2  \\\n0    gnl|CDD|223666       1   408   408   0.000000e+00  47.74     407     441   \n26   gnl|CDD|225853       1   215   215   3.470000e-82  48.18     214     216   \n40   gnl|CDD|226138       1   414   417  5.730000e-142  34.74     413     447   \n75   gnl|CDD|227308      21   291   300   3.630000e-28  24.92     270     308   \n76   gnl|CDD|223655       7   309   309   2.480000e-14  20.41     302     340   \n77   gnl|CDD|227307       6   283   299   5.940000e-14  23.24     277     319   \n83   gnl|CDD|225865       1   377   379   4.530000e-98  35.13     376     388   \n89   gnl|CDD|224401      37   250   254   1.160000e-29  22.27     213     212   \n117  gnl|CDD|224401      23   247   254   1.440000e-30  22.22     224     218   \n154  gnl|CDD|226192      58   161   161   1.410000e-14  28.85     103      91   \n164  gnl|CDD|225382     163   311   318   1.040000e-46  42.67     148     148   \n166  gnl|CDD|225361      19   223   232   7.820000e-27  30.32     204     220   \n181  gnl|CDD|225511       2    99   116   5.290000e-12  26.26      97      93   \n203  gnl|CDD|224872       2   206   222   2.210000e-54  43.69     204     188   \n277  gnl|CDD|225361       6   225   232   1.110000e-29  28.99     219     237   \n283  gnl|CDD|224401       9   252   254   3.470000e-58  37.75     243     235   \n321  gnl|CDD|225865       3   354   379   2.140000e-69  35.42     351     363   \n327  gnl|CDD|224401       1   254   254   2.360000e-55  17.91     253     265   \n358  gnl|CDD|225382       3   317   318  6.540000e-121  45.89     314     313   \n427  gnl|CDD|225853       1   215   215   8.000000e-96  57.73     214     216   \n436  gnl|CDD|224401       3   254   254   1.080000e-60  38.89     251     248   \n455  gnl|CDD|224401       1   247   254   1.410000e-69  41.53     246     244   \n472  gnl|CDD|223109       1   258   259   2.330000e-75  32.56     257     242   \n483  gnl|CDD|225398       1   287   297   1.270000e-61  22.60     286     267   \n509  gnl|CDD|227484    1239  1398  1622   1.500000e-01  19.19     159     170   \n536  gnl|CDD|226783       5   166   167   1.260000e-74  34.52     161     166   \n538  gnl|CDD|225995       1   402   402  4.020000e-118  38.72     401     419   \n611  gnl|CDD|225382     155   315   318   6.210000e-56  42.86     160     157   \n620  gnl|CDD|224302     136   167   521   8.800000e+00  29.41      31      33   \n621  gnl|CDD|224348     143   178   685   9.100000e+00  13.89      35      35   \n633  gnl|CDD|226192     103   161   161   8.610000e-10  20.34      58      58   \n646  gnl|CDD|223250       5   105   429   8.400000e-02  18.90     100     118   \n655  gnl|CDD|225511       1    93   116   1.790000e-12  25.53      92      88   \n659  gnl|CDD|225382       3   318   318   1.750000e-50  33.13     315     313   \n665  gnl|CDD|225382       2   317   318   3.840000e-68  34.29     315     346   \n763  gnl|CDD|223568       4   129   161   1.620000e-14  24.03     125     120   \n818  gnl|CDD|225995      41   400   402   1.500000e-71  31.02     359     373   \n827  gnl|CDD|225303       1    73    73   2.480000e-25  43.84      72      72   \n832  gnl|CDD|227259      70   124   129   4.100000e+00  23.08      54      64   \n835  gnl|CDD|227138      87   161   277   6.500000e+00  24.05      74      73   \n\n         qcov      scov  \n0    0.975717  1.000000  \n26   0.968750  1.000000  \n40   0.961373  0.992806  \n75   0.855956  0.903333  \n76   0.944598  0.980583  \n77   0.886427  0.929766  \n83   0.982323  0.994723  \n89   0.816092  0.842520  \n117  0.845560  0.885827  \n154  0.884615  0.645963  \n164  0.837079  0.468553  \n166  0.824627  0.883621  \n181  0.817391  0.844828  \n203  0.959391  0.923423  \n277  0.840989  0.948276  \n283  0.975207  0.960630  \n321  0.933333  0.928760  \n327  0.849840  1.000000  \n358  0.957317  0.990566  \n427  0.951754  1.000000  \n436  0.976471  0.992126  \n455  0.942308  0.972441  \n472  0.913534  0.996139  \n483  0.988930  0.966330  \n509  1.000000  0.098644  \n536  0.976608  0.970060  \n538  0.903226  1.000000  \n611  0.887640  0.506289  \n620  0.850000  0.061420  \n621  0.900000  0.052555  \n633  0.921875  0.366460  \n646  0.929688  0.235431  \n655  0.872549  0.801724  \n659  0.984326  0.993711  \n665  0.953297  0.993711  \n763  0.909774  0.782609  \n818  0.831111  0.895522  \n827  0.901235  1.000000  \n832  0.802469  0.426357  \n835  0.913580  0.270758  ",
      "text/html": "<div>\n<style scoped>\n    .dataframe tbody tr th:only-of-type {\n        vertical-align: middle;\n    }\n\n    .dataframe tbody tr th {\n        vertical-align: top;\n    }\n\n    .dataframe thead th {\n        text-align: right;\n    }\n</style>\n<table border=\"1\" class=\"dataframe\">\n  <thead>\n    <tr style=\"text-align: right;\">\n      <th></th>\n      <th>qseqid</th>\n      <th>qstart</th>\n      <th>qend</th>\n      <th>qlen</th>\n      <th>sseqid</th>\n      <th>sstart</th>\n      <th>send</th>\n      <th>slen</th>\n      <th>evalue</th>\n      <th>ppos</th>\n      <th>slen_2</th>\n      <th>qlen_2</th>\n      <th>qcov</th>\n      <th>scov</th>\n    </tr>\n  </thead>\n  <tbody>\n    <tr>\n      <th>0</th>\n      <td>0.GCA_000009005.1_ASM900v1_genomic</td>\n      <td>7</td>\n      <td>448</td>\n      <td>453</td>\n      <td>gnl|CDD|223666</td>\n      <td>1</td>\n      <td>408</td>\n      <td>408</td>\n      <td>0.000000e+00</td>\n      <td>47.74</td>\n      <td>407</td>\n      <td>441</td>\n      <td>0.975717</td>\n      <td>1.000000</td>\n    </tr>\n    <tr>\n      <th>26</th>\n      <td>2.GCA_000009005.1_ASM900v1_genomic</td>\n      <td>1</td>\n      <td>217</td>\n      <td>224</td>\n      <td>gnl|CDD|225853</td>\n      <td>1</td>\n      <td>215</td>\n      <td>215</td>\n      <td>3.470000e-82</td>\n      <td>48.18</td>\n      <td>214</td>\n      <td>216</td>\n      <td>0.968750</td>\n      <td>1.000000</td>\n    </tr>\n    <tr>\n      <th>40</th>\n      <td>7.GCA_000009005.1_ASM900v1_genomic</td>\n      <td>9</td>\n      <td>456</td>\n      <td>466</td>\n      <td>gnl|CDD|226138</td>\n      <td>1</td>\n      <td>414</td>\n      <td>417</td>\n      <td>5.730000e-142</td>\n      <td>34.74</td>\n      <td>413</td>\n      <td>447</td>\n      <td>0.961373</td>\n      <td>0.992806</td>\n    </tr>\n    <tr>\n      <th>75</th>\n      <td>8.GCA_000009645.1_ASM964v1_genomic</td>\n      <td>40</td>\n      <td>348</td>\n      <td>361</td>\n      <td>gnl|CDD|227308</td>\n      <td>21</td>\n      <td>291</td>\n      <td>300</td>\n      <td>3.630000e-28</td>\n      <td>24.92</td>\n      <td>270</td>\n      <td>308</td>\n      <td>0.855956</td>\n      <td>0.903333</td>\n    </tr>\n    <tr>\n      <th>76</th>\n      <td>8.GCA_000009645.1_ASM964v1_genomic</td>\n      <td>20</td>\n      <td>360</td>\n      <td>361</td>\n      <td>gnl|CDD|223655</td>\n      <td>7</td>\n      <td>309</td>\n      <td>309</td>\n      <td>2.480000e-14</td>\n      <td>20.41</td>\n      <td>302</td>\n      <td>340</td>\n      <td>0.944598</td>\n      <td>0.980583</td>\n    </tr>\n    <tr>\n      <th>77</th>\n      <td>8.GCA_000009645.1_ASM964v1_genomic</td>\n      <td>25</td>\n      <td>344</td>\n      <td>361</td>\n      <td>gnl|CDD|227307</td>\n      <td>6</td>\n      <td>283</td>\n      <td>299</td>\n      <td>5.940000e-14</td>\n      <td>23.24</td>\n      <td>277</td>\n      <td>319</td>\n      <td>0.886427</td>\n      <td>0.929766</td>\n    </tr>\n    <tr>\n      <th>83</th>\n      <td>16.GCA_000009665.1_ASM966v1_genomic</td>\n      <td>5</td>\n      <td>393</td>\n      <td>396</td>\n      <td>gnl|CDD|225865</td>\n      <td>1</td>\n      <td>377</td>\n      <td>379</td>\n      <td>4.530000e-98</td>\n      <td>35.13</td>\n      <td>376</td>\n      <td>388</td>\n      <td>0.982323</td>\n      <td>0.994723</td>\n    </tr>\n    <tr>\n      <th>89</th>\n      <td>19.GCA_000009665.1_ASM966v1_genomic</td>\n      <td>48</td>\n      <td>260</td>\n      <td>261</td>\n      <td>gnl|CDD|224401</td>\n      <td>37</td>\n      <td>250</td>\n      <td>254</td>\n      <td>1.160000e-29</td>\n      <td>22.27</td>\n      <td>213</td>\n      <td>212</td>\n      <td>0.816092</td>\n      <td>0.842520</td>\n    </tr>\n    <tr>\n      <th>117</th>\n      <td>6.GCA_000010465.1_ASM1046v1_genomic</td>\n      <td>38</td>\n      <td>256</td>\n      <td>259</td>\n      <td>gnl|CDD|224401</td>\n      <td>23</td>\n      <td>247</td>\n      <td>254</td>\n      <td>1.440000e-30</td>\n      <td>22.22</td>\n      <td>224</td>\n      <td>218</td>\n      <td>0.845560</td>\n      <td>0.885827</td>\n    </tr>\n    <tr>\n      <th>154</th>\n      <td>40.GCA_000010465.1_ASM1046v1_genomic</td>\n      <td>1</td>\n      <td>92</td>\n      <td>104</td>\n      <td>gnl|CDD|226192</td>\n      <td>58</td>\n      <td>161</td>\n      <td>161</td>\n      <td>1.410000e-14</td>\n      <td>28.85</td>\n      <td>103</td>\n      <td>91</td>\n      <td>0.884615</td>\n      <td>0.645963</td>\n    </tr>\n    <tr>\n      <th>164</th>\n      <td>42.GCA_000010465.1_ASM1046v1_genomic</td>\n      <td>15</td>\n      <td>163</td>\n      <td>178</td>\n      <td>gnl|CDD|225382</td>\n      <td>163</td>\n      <td>311</td>\n      <td>318</td>\n      <td>1.040000e-46</td>\n      <td>42.67</td>\n      <td>148</td>\n      <td>148</td>\n      <td>0.837079</td>\n      <td>0.468553</td>\n    </tr>\n    <tr>\n      <th>166</th>\n      <td>6.GCA_000011505.1_ASM1150v1_genomic</td>\n      <td>40</td>\n      <td>260</td>\n      <td>268</td>\n      <td>gnl|CDD|225361</td>\n      <td>19</td>\n      <td>223</td>\n      <td>232</td>\n      <td>7.820000e-27</td>\n      <td>30.32</td>\n      <td>204</td>\n      <td>220</td>\n      <td>0.824627</td>\n      <td>0.883621</td>\n    </tr>\n    <tr>\n      <th>181</th>\n      <td>9.GCA_000011505.1_ASM1150v1_genomic</td>\n      <td>10</td>\n      <td>103</td>\n      <td>115</td>\n      <td>gnl|CDD|225511</td>\n      <td>2</td>\n      <td>99</td>\n      <td>116</td>\n      <td>5.290000e-12</td>\n      <td>26.26</td>\n      <td>97</td>\n      <td>93</td>\n      <td>0.817391</td>\n      <td>0.844828</td>\n    </tr>\n    <tr>\n      <th>203</th>\n      <td>35.GCA_000011505.1_ASM1150v1_genomic</td>\n      <td>1</td>\n      <td>189</td>\n      <td>197</td>\n      <td>gnl|CDD|224872</td>\n      <td>2</td>\n      <td>206</td>\n      <td>222</td>\n      <td>2.210000e-54</td>\n      <td>43.69</td>\n      <td>204</td>\n      <td>188</td>\n      <td>0.959391</td>\n      <td>0.923423</td>\n    </tr>\n    <tr>\n      <th>277</th>\n      <td>4.GCA_000017085.1_ASM1708v1_genomic</td>\n      <td>43</td>\n      <td>280</td>\n      <td>283</td>\n      <td>gnl|CDD|225361</td>\n      <td>6</td>\n      <td>225</td>\n      <td>232</td>\n      <td>1.110000e-29</td>\n      <td>28.99</td>\n      <td>219</td>\n      <td>237</td>\n      <td>0.840989</td>\n      <td>0.948276</td>\n    </tr>\n    <tr>\n      <th>283</th>\n      <td>10.GCA_000027045.1_ASM2704v1_genomic</td>\n      <td>5</td>\n      <td>240</td>\n      <td>242</td>\n      <td>gnl|CDD|224401</td>\n      <td>9</td>\n      <td>252</td>\n      <td>254</td>\n      <td>3.470000e-58</td>\n      <td>37.75</td>\n      <td>243</td>\n      <td>235</td>\n      <td>0.975207</td>\n      <td>0.960630</td>\n    </tr>\n    <tr>\n      <th>321</th>\n      <td>13.GCA_000027045.1_ASM2704v1_genomic</td>\n      <td>12</td>\n      <td>375</td>\n      <td>390</td>\n      <td>gnl|CDD|225865</td>\n      <td>3</td>\n      <td>354</td>\n      <td>379</td>\n      <td>2.140000e-69</td>\n      <td>35.42</td>\n      <td>351</td>\n      <td>363</td>\n      <td>0.933333</td>\n      <td>0.928760</td>\n    </tr>\n    <tr>\n      <th>327</th>\n      <td>25.GCA_000159535.2_ASM15953v2_genomic</td>\n      <td>48</td>\n      <td>313</td>\n      <td>313</td>\n      <td>gnl|CDD|224401</td>\n      <td>1</td>\n      <td>254</td>\n      <td>254</td>\n      <td>2.360000e-55</td>\n      <td>17.91</td>\n      <td>253</td>\n      <td>265</td>\n      <td>0.849840</td>\n      <td>1.000000</td>\n    </tr>\n    <tr>\n      <th>358</th>\n      <td>17.GCA_000160335.2_ASM16033v2_genomic</td>\n      <td>14</td>\n      <td>327</td>\n      <td>328</td>\n      <td>gnl|CDD|225382</td>\n      <td>3</td>\n      <td>317</td>\n      <td>318</td>\n      <td>6.540000e-121</td>\n      <td>45.89</td>\n      <td>314</td>\n      <td>313</td>\n      <td>0.957317</td>\n      <td>0.990566</td>\n    </tr>\n    <tr>\n      <th>427</th>\n      <td>26.GCA_000237125.3_ASM23712v3_genomic</td>\n      <td>3</td>\n      <td>219</td>\n      <td>228</td>\n      <td>gnl|CDD|225853</td>\n      <td>1</td>\n      <td>215</td>\n      <td>215</td>\n      <td>8.000000e-96</td>\n      <td>57.73</td>\n      <td>214</td>\n      <td>216</td>\n      <td>0.951754</td>\n      <td>1.000000</td>\n    </tr>\n    <tr>\n      <th>436</th>\n      <td>5.GCA_000284535.1_ASM28453v1_genomic</td>\n      <td>1</td>\n      <td>249</td>\n      <td>255</td>\n      <td>gnl|CDD|224401</td>\n      <td>3</td>\n      <td>254</td>\n      <td>254</td>\n      <td>1.080000e-60</td>\n      <td>38.89</td>\n      <td>251</td>\n      <td>248</td>\n      <td>0.976471</td>\n      <td>0.992126</td>\n    </tr>\n    <tr>\n      <th>455</th>\n      <td>34.GCA_000284535.1_ASM28453v1_genomic</td>\n      <td>7</td>\n      <td>251</td>\n      <td>260</td>\n      <td>gnl|CDD|224401</td>\n      <td>1</td>\n      <td>247</td>\n      <td>254</td>\n      <td>1.410000e-69</td>\n      <td>41.53</td>\n      <td>246</td>\n      <td>244</td>\n      <td>0.942308</td>\n      <td>0.972441</td>\n    </tr>\n    <tr>\n      <th>472</th>\n      <td>10.GCA_000382965.1_ASM38296v1_genomic</td>\n      <td>24</td>\n      <td>266</td>\n      <td>266</td>\n      <td>gnl|CDD|223109</td>\n      <td>1</td>\n      <td>258</td>\n      <td>259</td>\n      <td>2.330000e-75</td>\n      <td>32.56</td>\n      <td>257</td>\n      <td>242</td>\n      <td>0.913534</td>\n      <td>0.996139</td>\n    </tr>\n    <tr>\n      <th>483</th>\n      <td>7.GCA_000418345.1_ASM41834v1_genomic</td>\n      <td>3</td>\n      <td>270</td>\n      <td>271</td>\n      <td>gnl|CDD|225398</td>\n      <td>1</td>\n      <td>287</td>\n      <td>297</td>\n      <td>1.270000e-61</td>\n      <td>22.60</td>\n      <td>286</td>\n      <td>267</td>\n      <td>0.988930</td>\n      <td>0.966330</td>\n    </tr>\n    <tr>\n      <th>509</th>\n      <td>70.GCA_000418345.1_ASM41834v1_genomic</td>\n      <td>1</td>\n      <td>171</td>\n      <td>171</td>\n      <td>gnl|CDD|227484</td>\n      <td>1239</td>\n      <td>1398</td>\n      <td>1622</td>\n      <td>1.500000e-01</td>\n      <td>19.19</td>\n      <td>159</td>\n      <td>170</td>\n      <td>1.000000</td>\n      <td>0.098644</td>\n    </tr>\n    <tr>\n      <th>536</th>\n      <td>8.GCA_000626615.3_ASM62661v3_genomic</td>\n      <td>4</td>\n      <td>170</td>\n      <td>171</td>\n      <td>gnl|CDD|226783</td>\n      <td>5</td>\n      <td>166</td>\n      <td>167</td>\n      <td>1.260000e-74</td>\n      <td>34.52</td>\n      <td>161</td>\n      <td>166</td>\n      <td>0.976608</td>\n      <td>0.970060</td>\n    </tr>\n    <tr>\n      <th>538</th>\n      <td>13.GCA_000769575.1_ASM76957v1_genomic</td>\n      <td>13</td>\n      <td>432</td>\n      <td>465</td>\n      <td>gnl|CDD|225995</td>\n      <td>1</td>\n      <td>402</td>\n      <td>402</td>\n      <td>4.020000e-118</td>\n      <td>38.72</td>\n      <td>401</td>\n      <td>419</td>\n      <td>0.903226</td>\n      <td>1.000000</td>\n    </tr>\n    <tr>\n      <th>611</th>\n      <td>6.GCA_001018835.2_ASM101883v2_genomic</td>\n      <td>3</td>\n      <td>160</td>\n      <td>178</td>\n      <td>gnl|CDD|225382</td>\n      <td>155</td>\n      <td>315</td>\n      <td>318</td>\n      <td>6.210000e-56</td>\n      <td>42.86</td>\n      <td>160</td>\n      <td>157</td>\n      <td>0.887640</td>\n      <td>0.506289</td>\n    </tr>\n    <tr>\n      <th>620</th>\n      <td>19.GCA_001018845.2_ASM101884v2_genomic</td>\n      <td>1</td>\n      <td>34</td>\n      <td>40</td>\n      <td>gnl|CDD|224302</td>\n      <td>136</td>\n      <td>167</td>\n      <td>521</td>\n      <td>8.800000e+00</td>\n      <td>29.41</td>\n      <td>31</td>\n      <td>33</td>\n      <td>0.850000</td>\n      <td>0.061420</td>\n    </tr>\n    <tr>\n      <th>621</th>\n      <td>19.GCA_001018845.2_ASM101884v2_genomic</td>\n      <td>3</td>\n      <td>38</td>\n      <td>40</td>\n      <td>gnl|CDD|224348</td>\n      <td>143</td>\n      <td>178</td>\n      <td>685</td>\n      <td>9.100000e+00</td>\n      <td>13.89</td>\n      <td>35</td>\n      <td>35</td>\n      <td>0.900000</td>\n      <td>0.052555</td>\n    </tr>\n    <tr>\n      <th>633</th>\n      <td>6.GCA_001444345.1_ASM144434v1_genomic</td>\n      <td>1</td>\n      <td>59</td>\n      <td>64</td>\n      <td>gnl|CDD|226192</td>\n      <td>103</td>\n      <td>161</td>\n      <td>161</td>\n      <td>8.610000e-10</td>\n      <td>20.34</td>\n      <td>58</td>\n      <td>58</td>\n      <td>0.921875</td>\n      <td>0.366460</td>\n    </tr>\n    <tr>\n      <th>646</th>\n      <td>1.GCA_001515665.1_ASM151566v1_genomic</td>\n      <td>3</td>\n      <td>121</td>\n      <td>128</td>\n      <td>gnl|CDD|223250</td>\n      <td>5</td>\n      <td>105</td>\n      <td>429</td>\n      <td>8.400000e-02</td>\n      <td>18.90</td>\n      <td>100</td>\n      <td>118</td>\n      <td>0.929688</td>\n      <td>0.235431</td>\n    </tr>\n    <tr>\n      <th>655</th>\n      <td>3.GCA_001548295.1_ASM154829v1_genomic</td>\n      <td>1</td>\n      <td>89</td>\n      <td>102</td>\n      <td>gnl|CDD|225511</td>\n      <td>1</td>\n      <td>93</td>\n      <td>116</td>\n      <td>1.790000e-12</td>\n      <td>25.53</td>\n      <td>92</td>\n      <td>88</td>\n      <td>0.872549</td>\n      <td>0.801724</td>\n    </tr>\n    <tr>\n      <th>659</th>\n      <td>13.GCA_001640905.1_ASM164090v1_genomic</td>\n      <td>1</td>\n      <td>314</td>\n      <td>319</td>\n      <td>gnl|CDD|225382</td>\n      <td>3</td>\n      <td>318</td>\n      <td>318</td>\n      <td>1.750000e-50</td>\n      <td>33.13</td>\n      <td>315</td>\n      <td>313</td>\n      <td>0.984326</td>\n      <td>0.993711</td>\n    </tr>\n    <tr>\n      <th>665</th>\n      <td>4.GCA_001956755.1_ASM195675v1_genomic</td>\n      <td>10</td>\n      <td>356</td>\n      <td>364</td>\n      <td>gnl|CDD|225382</td>\n      <td>2</td>\n      <td>317</td>\n      <td>318</td>\n      <td>3.840000e-68</td>\n      <td>34.29</td>\n      <td>315</td>\n      <td>346</td>\n      <td>0.953297</td>\n      <td>0.993711</td>\n    </tr>\n    <tr>\n      <th>763</th>\n      <td>26.GCA_004771335.1_ASM477133v1_genomic</td>\n      <td>2</td>\n      <td>122</td>\n      <td>133</td>\n      <td>gnl|CDD|223568</td>\n      <td>4</td>\n      <td>129</td>\n      <td>161</td>\n      <td>1.620000e-14</td>\n      <td>24.03</td>\n      <td>125</td>\n      <td>120</td>\n      <td>0.909774</td>\n      <td>0.782609</td>\n    </tr>\n    <tr>\n      <th>818</th>\n      <td>1.GCA_014696415.1_ASM1469641v1_genomic</td>\n      <td>46</td>\n      <td>419</td>\n      <td>450</td>\n      <td>gnl|CDD|225995</td>\n      <td>41</td>\n      <td>400</td>\n      <td>402</td>\n      <td>1.500000e-71</td>\n      <td>31.02</td>\n      <td>359</td>\n      <td>373</td>\n      <td>0.831111</td>\n      <td>0.895522</td>\n    </tr>\n    <tr>\n      <th>827</th>\n      <td>0.GCA_019551175.1_ASM1955117v1_genomic</td>\n      <td>3</td>\n      <td>75</td>\n      <td>81</td>\n      <td>gnl|CDD|225303</td>\n      <td>1</td>\n      <td>73</td>\n      <td>73</td>\n      <td>2.480000e-25</td>\n      <td>43.84</td>\n      <td>72</td>\n      <td>72</td>\n      <td>0.901235</td>\n      <td>1.000000</td>\n    </tr>\n    <tr>\n      <th>832</th>\n      <td>0.GCA_019551175.1_ASM1955117v1_genomic</td>\n      <td>8</td>\n      <td>72</td>\n      <td>81</td>\n      <td>gnl|CDD|227259</td>\n      <td>70</td>\n      <td>124</td>\n      <td>129</td>\n      <td>4.100000e+00</td>\n      <td>23.08</td>\n      <td>54</td>\n      <td>64</td>\n      <td>0.802469</td>\n      <td>0.426357</td>\n    </tr>\n    <tr>\n      <th>835</th>\n      <td>0.GCA_019551175.1_ASM1955117v1_genomic</td>\n      <td>8</td>\n      <td>81</td>\n      <td>81</td>\n      <td>gnl|CDD|227138</td>\n      <td>87</td>\n      <td>161</td>\n      <td>277</td>\n      <td>6.500000e+00</td>\n      <td>24.05</td>\n      <td>74</td>\n      <td>73</td>\n      <td>0.913580</td>\n      <td>0.270758</td>\n    </tr>\n  </tbody>\n</table>\n</div>"
     },
     "execution_count": 6,
     "metadata": {},
     "output_type": "execute_result"
    }
   ],
   "source": [
    "df_sort_qcov = df[df['qcov'] > 0.8]\n",
    "df_sort_qcov"
   ]
  },
  {
   "cell_type": "code",
   "execution_count": 7,
   "id": "627a82f2",
   "metadata": {
    "pycharm": {
     "name": "#%%\n"
    }
   },
   "outputs": [
    {
     "data": {
      "text/plain": "                                     qseqid  qstart  qend  qlen  \\\n0        0.GCA_000009005.1_ASM900v1_genomic       7   448   453   \n26       2.GCA_000009005.1_ASM900v1_genomic       1   217   224   \n40       7.GCA_000009005.1_ASM900v1_genomic       9   456   466   \n75       8.GCA_000009645.1_ASM964v1_genomic      40   348   361   \n76       8.GCA_000009645.1_ASM964v1_genomic      20   360   361   \n77       8.GCA_000009645.1_ASM964v1_genomic      25   344   361   \n83      16.GCA_000009665.1_ASM966v1_genomic       5   393   396   \n89      19.GCA_000009665.1_ASM966v1_genomic      48   260   261   \n117     6.GCA_000010465.1_ASM1046v1_genomic      38   256   259   \n166     6.GCA_000011505.1_ASM1150v1_genomic      40   260   268   \n181     9.GCA_000011505.1_ASM1150v1_genomic      10   103   115   \n203    35.GCA_000011505.1_ASM1150v1_genomic       1   189   197   \n277     4.GCA_000017085.1_ASM1708v1_genomic      43   280   283   \n283    10.GCA_000027045.1_ASM2704v1_genomic       5   240   242   \n321    13.GCA_000027045.1_ASM2704v1_genomic      12   375   390   \n327   25.GCA_000159535.2_ASM15953v2_genomic      48   313   313   \n358   17.GCA_000160335.2_ASM16033v2_genomic      14   327   328   \n427   26.GCA_000237125.3_ASM23712v3_genomic       3   219   228   \n436    5.GCA_000284535.1_ASM28453v1_genomic       1   249   255   \n455   34.GCA_000284535.1_ASM28453v1_genomic       7   251   260   \n472   10.GCA_000382965.1_ASM38296v1_genomic      24   266   266   \n483    7.GCA_000418345.1_ASM41834v1_genomic       3   270   271   \n536    8.GCA_000626615.3_ASM62661v3_genomic       4   170   171   \n538   13.GCA_000769575.1_ASM76957v1_genomic      13   432   465   \n655   3.GCA_001548295.1_ASM154829v1_genomic       1    89   102   \n659  13.GCA_001640905.1_ASM164090v1_genomic       1   314   319   \n665   4.GCA_001956755.1_ASM195675v1_genomic      10   356   364   \n818  1.GCA_014696415.1_ASM1469641v1_genomic      46   419   450   \n827  0.GCA_019551175.1_ASM1955117v1_genomic       3    75    81   \n\n             sseqid  sstart  send  slen         evalue   ppos  slen_2  qlen_2  \\\n0    gnl|CDD|223666       1   408   408   0.000000e+00  47.74     407     441   \n26   gnl|CDD|225853       1   215   215   3.470000e-82  48.18     214     216   \n40   gnl|CDD|226138       1   414   417  5.730000e-142  34.74     413     447   \n75   gnl|CDD|227308      21   291   300   3.630000e-28  24.92     270     308   \n76   gnl|CDD|223655       7   309   309   2.480000e-14  20.41     302     340   \n77   gnl|CDD|227307       6   283   299   5.940000e-14  23.24     277     319   \n83   gnl|CDD|225865       1   377   379   4.530000e-98  35.13     376     388   \n89   gnl|CDD|224401      37   250   254   1.160000e-29  22.27     213     212   \n117  gnl|CDD|224401      23   247   254   1.440000e-30  22.22     224     218   \n166  gnl|CDD|225361      19   223   232   7.820000e-27  30.32     204     220   \n181  gnl|CDD|225511       2    99   116   5.290000e-12  26.26      97      93   \n203  gnl|CDD|224872       2   206   222   2.210000e-54  43.69     204     188   \n277  gnl|CDD|225361       6   225   232   1.110000e-29  28.99     219     237   \n283  gnl|CDD|224401       9   252   254   3.470000e-58  37.75     243     235   \n321  gnl|CDD|225865       3   354   379   2.140000e-69  35.42     351     363   \n327  gnl|CDD|224401       1   254   254   2.360000e-55  17.91     253     265   \n358  gnl|CDD|225382       3   317   318  6.540000e-121  45.89     314     313   \n427  gnl|CDD|225853       1   215   215   8.000000e-96  57.73     214     216   \n436  gnl|CDD|224401       3   254   254   1.080000e-60  38.89     251     248   \n455  gnl|CDD|224401       1   247   254   1.410000e-69  41.53     246     244   \n472  gnl|CDD|223109       1   258   259   2.330000e-75  32.56     257     242   \n483  gnl|CDD|225398       1   287   297   1.270000e-61  22.60     286     267   \n536  gnl|CDD|226783       5   166   167   1.260000e-74  34.52     161     166   \n538  gnl|CDD|225995       1   402   402  4.020000e-118  38.72     401     419   \n655  gnl|CDD|225511       1    93   116   1.790000e-12  25.53      92      88   \n659  gnl|CDD|225382       3   318   318   1.750000e-50  33.13     315     313   \n665  gnl|CDD|225382       2   317   318   3.840000e-68  34.29     315     346   \n818  gnl|CDD|225995      41   400   402   1.500000e-71  31.02     359     373   \n827  gnl|CDD|225303       1    73    73   2.480000e-25  43.84      72      72   \n\n         qcov      scov  \n0    0.975717  1.000000  \n26   0.968750  1.000000  \n40   0.961373  0.992806  \n75   0.855956  0.903333  \n76   0.944598  0.980583  \n77   0.886427  0.929766  \n83   0.982323  0.994723  \n89   0.816092  0.842520  \n117  0.845560  0.885827  \n166  0.824627  0.883621  \n181  0.817391  0.844828  \n203  0.959391  0.923423  \n277  0.840989  0.948276  \n283  0.975207  0.960630  \n321  0.933333  0.928760  \n327  0.849840  1.000000  \n358  0.957317  0.990566  \n427  0.951754  1.000000  \n436  0.976471  0.992126  \n455  0.942308  0.972441  \n472  0.913534  0.996139  \n483  0.988930  0.966330  \n536  0.976608  0.970060  \n538  0.903226  1.000000  \n655  0.872549  0.801724  \n659  0.984326  0.993711  \n665  0.953297  0.993711  \n818  0.831111  0.895522  \n827  0.901235  1.000000  ",
      "text/html": "<div>\n<style scoped>\n    .dataframe tbody tr th:only-of-type {\n        vertical-align: middle;\n    }\n\n    .dataframe tbody tr th {\n        vertical-align: top;\n    }\n\n    .dataframe thead th {\n        text-align: right;\n    }\n</style>\n<table border=\"1\" class=\"dataframe\">\n  <thead>\n    <tr style=\"text-align: right;\">\n      <th></th>\n      <th>qseqid</th>\n      <th>qstart</th>\n      <th>qend</th>\n      <th>qlen</th>\n      <th>sseqid</th>\n      <th>sstart</th>\n      <th>send</th>\n      <th>slen</th>\n      <th>evalue</th>\n      <th>ppos</th>\n      <th>slen_2</th>\n      <th>qlen_2</th>\n      <th>qcov</th>\n      <th>scov</th>\n    </tr>\n  </thead>\n  <tbody>\n    <tr>\n      <th>0</th>\n      <td>0.GCA_000009005.1_ASM900v1_genomic</td>\n      <td>7</td>\n      <td>448</td>\n      <td>453</td>\n      <td>gnl|CDD|223666</td>\n      <td>1</td>\n      <td>408</td>\n      <td>408</td>\n      <td>0.000000e+00</td>\n      <td>47.74</td>\n      <td>407</td>\n      <td>441</td>\n      <td>0.975717</td>\n      <td>1.000000</td>\n    </tr>\n    <tr>\n      <th>26</th>\n      <td>2.GCA_000009005.1_ASM900v1_genomic</td>\n      <td>1</td>\n      <td>217</td>\n      <td>224</td>\n      <td>gnl|CDD|225853</td>\n      <td>1</td>\n      <td>215</td>\n      <td>215</td>\n      <td>3.470000e-82</td>\n      <td>48.18</td>\n      <td>214</td>\n      <td>216</td>\n      <td>0.968750</td>\n      <td>1.000000</td>\n    </tr>\n    <tr>\n      <th>40</th>\n      <td>7.GCA_000009005.1_ASM900v1_genomic</td>\n      <td>9</td>\n      <td>456</td>\n      <td>466</td>\n      <td>gnl|CDD|226138</td>\n      <td>1</td>\n      <td>414</td>\n      <td>417</td>\n      <td>5.730000e-142</td>\n      <td>34.74</td>\n      <td>413</td>\n      <td>447</td>\n      <td>0.961373</td>\n      <td>0.992806</td>\n    </tr>\n    <tr>\n      <th>75</th>\n      <td>8.GCA_000009645.1_ASM964v1_genomic</td>\n      <td>40</td>\n      <td>348</td>\n      <td>361</td>\n      <td>gnl|CDD|227308</td>\n      <td>21</td>\n      <td>291</td>\n      <td>300</td>\n      <td>3.630000e-28</td>\n      <td>24.92</td>\n      <td>270</td>\n      <td>308</td>\n      <td>0.855956</td>\n      <td>0.903333</td>\n    </tr>\n    <tr>\n      <th>76</th>\n      <td>8.GCA_000009645.1_ASM964v1_genomic</td>\n      <td>20</td>\n      <td>360</td>\n      <td>361</td>\n      <td>gnl|CDD|223655</td>\n      <td>7</td>\n      <td>309</td>\n      <td>309</td>\n      <td>2.480000e-14</td>\n      <td>20.41</td>\n      <td>302</td>\n      <td>340</td>\n      <td>0.944598</td>\n      <td>0.980583</td>\n    </tr>\n    <tr>\n      <th>77</th>\n      <td>8.GCA_000009645.1_ASM964v1_genomic</td>\n      <td>25</td>\n      <td>344</td>\n      <td>361</td>\n      <td>gnl|CDD|227307</td>\n      <td>6</td>\n      <td>283</td>\n      <td>299</td>\n      <td>5.940000e-14</td>\n      <td>23.24</td>\n      <td>277</td>\n      <td>319</td>\n      <td>0.886427</td>\n      <td>0.929766</td>\n    </tr>\n    <tr>\n      <th>83</th>\n      <td>16.GCA_000009665.1_ASM966v1_genomic</td>\n      <td>5</td>\n      <td>393</td>\n      <td>396</td>\n      <td>gnl|CDD|225865</td>\n      <td>1</td>\n      <td>377</td>\n      <td>379</td>\n      <td>4.530000e-98</td>\n      <td>35.13</td>\n      <td>376</td>\n      <td>388</td>\n      <td>0.982323</td>\n      <td>0.994723</td>\n    </tr>\n    <tr>\n      <th>89</th>\n      <td>19.GCA_000009665.1_ASM966v1_genomic</td>\n      <td>48</td>\n      <td>260</td>\n      <td>261</td>\n      <td>gnl|CDD|224401</td>\n      <td>37</td>\n      <td>250</td>\n      <td>254</td>\n      <td>1.160000e-29</td>\n      <td>22.27</td>\n      <td>213</td>\n      <td>212</td>\n      <td>0.816092</td>\n      <td>0.842520</td>\n    </tr>\n    <tr>\n      <th>117</th>\n      <td>6.GCA_000010465.1_ASM1046v1_genomic</td>\n      <td>38</td>\n      <td>256</td>\n      <td>259</td>\n      <td>gnl|CDD|224401</td>\n      <td>23</td>\n      <td>247</td>\n      <td>254</td>\n      <td>1.440000e-30</td>\n      <td>22.22</td>\n      <td>224</td>\n      <td>218</td>\n      <td>0.845560</td>\n      <td>0.885827</td>\n    </tr>\n    <tr>\n      <th>166</th>\n      <td>6.GCA_000011505.1_ASM1150v1_genomic</td>\n      <td>40</td>\n      <td>260</td>\n      <td>268</td>\n      <td>gnl|CDD|225361</td>\n      <td>19</td>\n      <td>223</td>\n      <td>232</td>\n      <td>7.820000e-27</td>\n      <td>30.32</td>\n      <td>204</td>\n      <td>220</td>\n      <td>0.824627</td>\n      <td>0.883621</td>\n    </tr>\n    <tr>\n      <th>181</th>\n      <td>9.GCA_000011505.1_ASM1150v1_genomic</td>\n      <td>10</td>\n      <td>103</td>\n      <td>115</td>\n      <td>gnl|CDD|225511</td>\n      <td>2</td>\n      <td>99</td>\n      <td>116</td>\n      <td>5.290000e-12</td>\n      <td>26.26</td>\n      <td>97</td>\n      <td>93</td>\n      <td>0.817391</td>\n      <td>0.844828</td>\n    </tr>\n    <tr>\n      <th>203</th>\n      <td>35.GCA_000011505.1_ASM1150v1_genomic</td>\n      <td>1</td>\n      <td>189</td>\n      <td>197</td>\n      <td>gnl|CDD|224872</td>\n      <td>2</td>\n      <td>206</td>\n      <td>222</td>\n      <td>2.210000e-54</td>\n      <td>43.69</td>\n      <td>204</td>\n      <td>188</td>\n      <td>0.959391</td>\n      <td>0.923423</td>\n    </tr>\n    <tr>\n      <th>277</th>\n      <td>4.GCA_000017085.1_ASM1708v1_genomic</td>\n      <td>43</td>\n      <td>280</td>\n      <td>283</td>\n      <td>gnl|CDD|225361</td>\n      <td>6</td>\n      <td>225</td>\n      <td>232</td>\n      <td>1.110000e-29</td>\n      <td>28.99</td>\n      <td>219</td>\n      <td>237</td>\n      <td>0.840989</td>\n      <td>0.948276</td>\n    </tr>\n    <tr>\n      <th>283</th>\n      <td>10.GCA_000027045.1_ASM2704v1_genomic</td>\n      <td>5</td>\n      <td>240</td>\n      <td>242</td>\n      <td>gnl|CDD|224401</td>\n      <td>9</td>\n      <td>252</td>\n      <td>254</td>\n      <td>3.470000e-58</td>\n      <td>37.75</td>\n      <td>243</td>\n      <td>235</td>\n      <td>0.975207</td>\n      <td>0.960630</td>\n    </tr>\n    <tr>\n      <th>321</th>\n      <td>13.GCA_000027045.1_ASM2704v1_genomic</td>\n      <td>12</td>\n      <td>375</td>\n      <td>390</td>\n      <td>gnl|CDD|225865</td>\n      <td>3</td>\n      <td>354</td>\n      <td>379</td>\n      <td>2.140000e-69</td>\n      <td>35.42</td>\n      <td>351</td>\n      <td>363</td>\n      <td>0.933333</td>\n      <td>0.928760</td>\n    </tr>\n    <tr>\n      <th>327</th>\n      <td>25.GCA_000159535.2_ASM15953v2_genomic</td>\n      <td>48</td>\n      <td>313</td>\n      <td>313</td>\n      <td>gnl|CDD|224401</td>\n      <td>1</td>\n      <td>254</td>\n      <td>254</td>\n      <td>2.360000e-55</td>\n      <td>17.91</td>\n      <td>253</td>\n      <td>265</td>\n      <td>0.849840</td>\n      <td>1.000000</td>\n    </tr>\n    <tr>\n      <th>358</th>\n      <td>17.GCA_000160335.2_ASM16033v2_genomic</td>\n      <td>14</td>\n      <td>327</td>\n      <td>328</td>\n      <td>gnl|CDD|225382</td>\n      <td>3</td>\n      <td>317</td>\n      <td>318</td>\n      <td>6.540000e-121</td>\n      <td>45.89</td>\n      <td>314</td>\n      <td>313</td>\n      <td>0.957317</td>\n      <td>0.990566</td>\n    </tr>\n    <tr>\n      <th>427</th>\n      <td>26.GCA_000237125.3_ASM23712v3_genomic</td>\n      <td>3</td>\n      <td>219</td>\n      <td>228</td>\n      <td>gnl|CDD|225853</td>\n      <td>1</td>\n      <td>215</td>\n      <td>215</td>\n      <td>8.000000e-96</td>\n      <td>57.73</td>\n      <td>214</td>\n      <td>216</td>\n      <td>0.951754</td>\n      <td>1.000000</td>\n    </tr>\n    <tr>\n      <th>436</th>\n      <td>5.GCA_000284535.1_ASM28453v1_genomic</td>\n      <td>1</td>\n      <td>249</td>\n      <td>255</td>\n      <td>gnl|CDD|224401</td>\n      <td>3</td>\n      <td>254</td>\n      <td>254</td>\n      <td>1.080000e-60</td>\n      <td>38.89</td>\n      <td>251</td>\n      <td>248</td>\n      <td>0.976471</td>\n      <td>0.992126</td>\n    </tr>\n    <tr>\n      <th>455</th>\n      <td>34.GCA_000284535.1_ASM28453v1_genomic</td>\n      <td>7</td>\n      <td>251</td>\n      <td>260</td>\n      <td>gnl|CDD|224401</td>\n      <td>1</td>\n      <td>247</td>\n      <td>254</td>\n      <td>1.410000e-69</td>\n      <td>41.53</td>\n      <td>246</td>\n      <td>244</td>\n      <td>0.942308</td>\n      <td>0.972441</td>\n    </tr>\n    <tr>\n      <th>472</th>\n      <td>10.GCA_000382965.1_ASM38296v1_genomic</td>\n      <td>24</td>\n      <td>266</td>\n      <td>266</td>\n      <td>gnl|CDD|223109</td>\n      <td>1</td>\n      <td>258</td>\n      <td>259</td>\n      <td>2.330000e-75</td>\n      <td>32.56</td>\n      <td>257</td>\n      <td>242</td>\n      <td>0.913534</td>\n      <td>0.996139</td>\n    </tr>\n    <tr>\n      <th>483</th>\n      <td>7.GCA_000418345.1_ASM41834v1_genomic</td>\n      <td>3</td>\n      <td>270</td>\n      <td>271</td>\n      <td>gnl|CDD|225398</td>\n      <td>1</td>\n      <td>287</td>\n      <td>297</td>\n      <td>1.270000e-61</td>\n      <td>22.60</td>\n      <td>286</td>\n      <td>267</td>\n      <td>0.988930</td>\n      <td>0.966330</td>\n    </tr>\n    <tr>\n      <th>536</th>\n      <td>8.GCA_000626615.3_ASM62661v3_genomic</td>\n      <td>4</td>\n      <td>170</td>\n      <td>171</td>\n      <td>gnl|CDD|226783</td>\n      <td>5</td>\n      <td>166</td>\n      <td>167</td>\n      <td>1.260000e-74</td>\n      <td>34.52</td>\n      <td>161</td>\n      <td>166</td>\n      <td>0.976608</td>\n      <td>0.970060</td>\n    </tr>\n    <tr>\n      <th>538</th>\n      <td>13.GCA_000769575.1_ASM76957v1_genomic</td>\n      <td>13</td>\n      <td>432</td>\n      <td>465</td>\n      <td>gnl|CDD|225995</td>\n      <td>1</td>\n      <td>402</td>\n      <td>402</td>\n      <td>4.020000e-118</td>\n      <td>38.72</td>\n      <td>401</td>\n      <td>419</td>\n      <td>0.903226</td>\n      <td>1.000000</td>\n    </tr>\n    <tr>\n      <th>655</th>\n      <td>3.GCA_001548295.1_ASM154829v1_genomic</td>\n      <td>1</td>\n      <td>89</td>\n      <td>102</td>\n      <td>gnl|CDD|225511</td>\n      <td>1</td>\n      <td>93</td>\n      <td>116</td>\n      <td>1.790000e-12</td>\n      <td>25.53</td>\n      <td>92</td>\n      <td>88</td>\n      <td>0.872549</td>\n      <td>0.801724</td>\n    </tr>\n    <tr>\n      <th>659</th>\n      <td>13.GCA_001640905.1_ASM164090v1_genomic</td>\n      <td>1</td>\n      <td>314</td>\n      <td>319</td>\n      <td>gnl|CDD|225382</td>\n      <td>3</td>\n      <td>318</td>\n      <td>318</td>\n      <td>1.750000e-50</td>\n      <td>33.13</td>\n      <td>315</td>\n      <td>313</td>\n      <td>0.984326</td>\n      <td>0.993711</td>\n    </tr>\n    <tr>\n      <th>665</th>\n      <td>4.GCA_001956755.1_ASM195675v1_genomic</td>\n      <td>10</td>\n      <td>356</td>\n      <td>364</td>\n      <td>gnl|CDD|225382</td>\n      <td>2</td>\n      <td>317</td>\n      <td>318</td>\n      <td>3.840000e-68</td>\n      <td>34.29</td>\n      <td>315</td>\n      <td>346</td>\n      <td>0.953297</td>\n      <td>0.993711</td>\n    </tr>\n    <tr>\n      <th>818</th>\n      <td>1.GCA_014696415.1_ASM1469641v1_genomic</td>\n      <td>46</td>\n      <td>419</td>\n      <td>450</td>\n      <td>gnl|CDD|225995</td>\n      <td>41</td>\n      <td>400</td>\n      <td>402</td>\n      <td>1.500000e-71</td>\n      <td>31.02</td>\n      <td>359</td>\n      <td>373</td>\n      <td>0.831111</td>\n      <td>0.895522</td>\n    </tr>\n    <tr>\n      <th>827</th>\n      <td>0.GCA_019551175.1_ASM1955117v1_genomic</td>\n      <td>3</td>\n      <td>75</td>\n      <td>81</td>\n      <td>gnl|CDD|225303</td>\n      <td>1</td>\n      <td>73</td>\n      <td>73</td>\n      <td>2.480000e-25</td>\n      <td>43.84</td>\n      <td>72</td>\n      <td>72</td>\n      <td>0.901235</td>\n      <td>1.000000</td>\n    </tr>\n  </tbody>\n</table>\n</div>"
     },
     "execution_count": 7,
     "metadata": {},
     "output_type": "execute_result"
    }
   ],
   "source": [
    "df_sort_cov = df_sort_qcov[df_sort_qcov['scov'] > 0.8]\n",
    "df_sort_cov"
   ]
  },
  {
   "cell_type": "code",
   "execution_count": 8,
   "id": "59b9bb5f",
   "metadata": {
    "pycharm": {
     "name": "#%%\n"
    }
   },
   "outputs": [
    {
     "data": {
      "text/plain": "                                     qseqid          sseqid      qcov  \\\n0        0.GCA_000009005.1_ASM900v1_genomic  gnl|CDD|223666  0.975717   \n26       2.GCA_000009005.1_ASM900v1_genomic  gnl|CDD|225853  0.968750   \n40       7.GCA_000009005.1_ASM900v1_genomic  gnl|CDD|226138  0.961373   \n75       8.GCA_000009645.1_ASM964v1_genomic  gnl|CDD|227308  0.855956   \n76       8.GCA_000009645.1_ASM964v1_genomic  gnl|CDD|223655  0.944598   \n77       8.GCA_000009645.1_ASM964v1_genomic  gnl|CDD|227307  0.886427   \n83      16.GCA_000009665.1_ASM966v1_genomic  gnl|CDD|225865  0.982323   \n89      19.GCA_000009665.1_ASM966v1_genomic  gnl|CDD|224401  0.816092   \n117     6.GCA_000010465.1_ASM1046v1_genomic  gnl|CDD|224401  0.845560   \n166     6.GCA_000011505.1_ASM1150v1_genomic  gnl|CDD|225361  0.824627   \n181     9.GCA_000011505.1_ASM1150v1_genomic  gnl|CDD|225511  0.817391   \n203    35.GCA_000011505.1_ASM1150v1_genomic  gnl|CDD|224872  0.959391   \n277     4.GCA_000017085.1_ASM1708v1_genomic  gnl|CDD|225361  0.840989   \n283    10.GCA_000027045.1_ASM2704v1_genomic  gnl|CDD|224401  0.975207   \n321    13.GCA_000027045.1_ASM2704v1_genomic  gnl|CDD|225865  0.933333   \n327   25.GCA_000159535.2_ASM15953v2_genomic  gnl|CDD|224401  0.849840   \n358   17.GCA_000160335.2_ASM16033v2_genomic  gnl|CDD|225382  0.957317   \n427   26.GCA_000237125.3_ASM23712v3_genomic  gnl|CDD|225853  0.951754   \n436    5.GCA_000284535.1_ASM28453v1_genomic  gnl|CDD|224401  0.976471   \n455   34.GCA_000284535.1_ASM28453v1_genomic  gnl|CDD|224401  0.942308   \n472   10.GCA_000382965.1_ASM38296v1_genomic  gnl|CDD|223109  0.913534   \n483    7.GCA_000418345.1_ASM41834v1_genomic  gnl|CDD|225398  0.988930   \n536    8.GCA_000626615.3_ASM62661v3_genomic  gnl|CDD|226783  0.976608   \n538   13.GCA_000769575.1_ASM76957v1_genomic  gnl|CDD|225995  0.903226   \n655   3.GCA_001548295.1_ASM154829v1_genomic  gnl|CDD|225511  0.872549   \n659  13.GCA_001640905.1_ASM164090v1_genomic  gnl|CDD|225382  0.984326   \n665   4.GCA_001956755.1_ASM195675v1_genomic  gnl|CDD|225382  0.953297   \n818  1.GCA_014696415.1_ASM1469641v1_genomic  gnl|CDD|225995  0.831111   \n827  0.GCA_019551175.1_ASM1955117v1_genomic  gnl|CDD|225303  0.901235   \n\n         scov   ppos         evalue  \n0    1.000000  47.74   0.000000e+00  \n26   1.000000  48.18   3.470000e-82  \n40   0.992806  34.74  5.730000e-142  \n75   0.903333  24.92   3.630000e-28  \n76   0.980583  20.41   2.480000e-14  \n77   0.929766  23.24   5.940000e-14  \n83   0.994723  35.13   4.530000e-98  \n89   0.842520  22.27   1.160000e-29  \n117  0.885827  22.22   1.440000e-30  \n166  0.883621  30.32   7.820000e-27  \n181  0.844828  26.26   5.290000e-12  \n203  0.923423  43.69   2.210000e-54  \n277  0.948276  28.99   1.110000e-29  \n283  0.960630  37.75   3.470000e-58  \n321  0.928760  35.42   2.140000e-69  \n327  1.000000  17.91   2.360000e-55  \n358  0.990566  45.89  6.540000e-121  \n427  1.000000  57.73   8.000000e-96  \n436  0.992126  38.89   1.080000e-60  \n455  0.972441  41.53   1.410000e-69  \n472  0.996139  32.56   2.330000e-75  \n483  0.966330  22.60   1.270000e-61  \n536  0.970060  34.52   1.260000e-74  \n538  1.000000  38.72  4.020000e-118  \n655  0.801724  25.53   1.790000e-12  \n659  0.993711  33.13   1.750000e-50  \n665  0.993711  34.29   3.840000e-68  \n818  0.895522  31.02   1.500000e-71  \n827  1.000000  43.84   2.480000e-25  ",
      "text/html": "<div>\n<style scoped>\n    .dataframe tbody tr th:only-of-type {\n        vertical-align: middle;\n    }\n\n    .dataframe tbody tr th {\n        vertical-align: top;\n    }\n\n    .dataframe thead th {\n        text-align: right;\n    }\n</style>\n<table border=\"1\" class=\"dataframe\">\n  <thead>\n    <tr style=\"text-align: right;\">\n      <th></th>\n      <th>qseqid</th>\n      <th>sseqid</th>\n      <th>qcov</th>\n      <th>scov</th>\n      <th>ppos</th>\n      <th>evalue</th>\n    </tr>\n  </thead>\n  <tbody>\n    <tr>\n      <th>0</th>\n      <td>0.GCA_000009005.1_ASM900v1_genomic</td>\n      <td>gnl|CDD|223666</td>\n      <td>0.975717</td>\n      <td>1.000000</td>\n      <td>47.74</td>\n      <td>0.000000e+00</td>\n    </tr>\n    <tr>\n      <th>26</th>\n      <td>2.GCA_000009005.1_ASM900v1_genomic</td>\n      <td>gnl|CDD|225853</td>\n      <td>0.968750</td>\n      <td>1.000000</td>\n      <td>48.18</td>\n      <td>3.470000e-82</td>\n    </tr>\n    <tr>\n      <th>40</th>\n      <td>7.GCA_000009005.1_ASM900v1_genomic</td>\n      <td>gnl|CDD|226138</td>\n      <td>0.961373</td>\n      <td>0.992806</td>\n      <td>34.74</td>\n      <td>5.730000e-142</td>\n    </tr>\n    <tr>\n      <th>75</th>\n      <td>8.GCA_000009645.1_ASM964v1_genomic</td>\n      <td>gnl|CDD|227308</td>\n      <td>0.855956</td>\n      <td>0.903333</td>\n      <td>24.92</td>\n      <td>3.630000e-28</td>\n    </tr>\n    <tr>\n      <th>76</th>\n      <td>8.GCA_000009645.1_ASM964v1_genomic</td>\n      <td>gnl|CDD|223655</td>\n      <td>0.944598</td>\n      <td>0.980583</td>\n      <td>20.41</td>\n      <td>2.480000e-14</td>\n    </tr>\n    <tr>\n      <th>77</th>\n      <td>8.GCA_000009645.1_ASM964v1_genomic</td>\n      <td>gnl|CDD|227307</td>\n      <td>0.886427</td>\n      <td>0.929766</td>\n      <td>23.24</td>\n      <td>5.940000e-14</td>\n    </tr>\n    <tr>\n      <th>83</th>\n      <td>16.GCA_000009665.1_ASM966v1_genomic</td>\n      <td>gnl|CDD|225865</td>\n      <td>0.982323</td>\n      <td>0.994723</td>\n      <td>35.13</td>\n      <td>4.530000e-98</td>\n    </tr>\n    <tr>\n      <th>89</th>\n      <td>19.GCA_000009665.1_ASM966v1_genomic</td>\n      <td>gnl|CDD|224401</td>\n      <td>0.816092</td>\n      <td>0.842520</td>\n      <td>22.27</td>\n      <td>1.160000e-29</td>\n    </tr>\n    <tr>\n      <th>117</th>\n      <td>6.GCA_000010465.1_ASM1046v1_genomic</td>\n      <td>gnl|CDD|224401</td>\n      <td>0.845560</td>\n      <td>0.885827</td>\n      <td>22.22</td>\n      <td>1.440000e-30</td>\n    </tr>\n    <tr>\n      <th>166</th>\n      <td>6.GCA_000011505.1_ASM1150v1_genomic</td>\n      <td>gnl|CDD|225361</td>\n      <td>0.824627</td>\n      <td>0.883621</td>\n      <td>30.32</td>\n      <td>7.820000e-27</td>\n    </tr>\n    <tr>\n      <th>181</th>\n      <td>9.GCA_000011505.1_ASM1150v1_genomic</td>\n      <td>gnl|CDD|225511</td>\n      <td>0.817391</td>\n      <td>0.844828</td>\n      <td>26.26</td>\n      <td>5.290000e-12</td>\n    </tr>\n    <tr>\n      <th>203</th>\n      <td>35.GCA_000011505.1_ASM1150v1_genomic</td>\n      <td>gnl|CDD|224872</td>\n      <td>0.959391</td>\n      <td>0.923423</td>\n      <td>43.69</td>\n      <td>2.210000e-54</td>\n    </tr>\n    <tr>\n      <th>277</th>\n      <td>4.GCA_000017085.1_ASM1708v1_genomic</td>\n      <td>gnl|CDD|225361</td>\n      <td>0.840989</td>\n      <td>0.948276</td>\n      <td>28.99</td>\n      <td>1.110000e-29</td>\n    </tr>\n    <tr>\n      <th>283</th>\n      <td>10.GCA_000027045.1_ASM2704v1_genomic</td>\n      <td>gnl|CDD|224401</td>\n      <td>0.975207</td>\n      <td>0.960630</td>\n      <td>37.75</td>\n      <td>3.470000e-58</td>\n    </tr>\n    <tr>\n      <th>321</th>\n      <td>13.GCA_000027045.1_ASM2704v1_genomic</td>\n      <td>gnl|CDD|225865</td>\n      <td>0.933333</td>\n      <td>0.928760</td>\n      <td>35.42</td>\n      <td>2.140000e-69</td>\n    </tr>\n    <tr>\n      <th>327</th>\n      <td>25.GCA_000159535.2_ASM15953v2_genomic</td>\n      <td>gnl|CDD|224401</td>\n      <td>0.849840</td>\n      <td>1.000000</td>\n      <td>17.91</td>\n      <td>2.360000e-55</td>\n    </tr>\n    <tr>\n      <th>358</th>\n      <td>17.GCA_000160335.2_ASM16033v2_genomic</td>\n      <td>gnl|CDD|225382</td>\n      <td>0.957317</td>\n      <td>0.990566</td>\n      <td>45.89</td>\n      <td>6.540000e-121</td>\n    </tr>\n    <tr>\n      <th>427</th>\n      <td>26.GCA_000237125.3_ASM23712v3_genomic</td>\n      <td>gnl|CDD|225853</td>\n      <td>0.951754</td>\n      <td>1.000000</td>\n      <td>57.73</td>\n      <td>8.000000e-96</td>\n    </tr>\n    <tr>\n      <th>436</th>\n      <td>5.GCA_000284535.1_ASM28453v1_genomic</td>\n      <td>gnl|CDD|224401</td>\n      <td>0.976471</td>\n      <td>0.992126</td>\n      <td>38.89</td>\n      <td>1.080000e-60</td>\n    </tr>\n    <tr>\n      <th>455</th>\n      <td>34.GCA_000284535.1_ASM28453v1_genomic</td>\n      <td>gnl|CDD|224401</td>\n      <td>0.942308</td>\n      <td>0.972441</td>\n      <td>41.53</td>\n      <td>1.410000e-69</td>\n    </tr>\n    <tr>\n      <th>472</th>\n      <td>10.GCA_000382965.1_ASM38296v1_genomic</td>\n      <td>gnl|CDD|223109</td>\n      <td>0.913534</td>\n      <td>0.996139</td>\n      <td>32.56</td>\n      <td>2.330000e-75</td>\n    </tr>\n    <tr>\n      <th>483</th>\n      <td>7.GCA_000418345.1_ASM41834v1_genomic</td>\n      <td>gnl|CDD|225398</td>\n      <td>0.988930</td>\n      <td>0.966330</td>\n      <td>22.60</td>\n      <td>1.270000e-61</td>\n    </tr>\n    <tr>\n      <th>536</th>\n      <td>8.GCA_000626615.3_ASM62661v3_genomic</td>\n      <td>gnl|CDD|226783</td>\n      <td>0.976608</td>\n      <td>0.970060</td>\n      <td>34.52</td>\n      <td>1.260000e-74</td>\n    </tr>\n    <tr>\n      <th>538</th>\n      <td>13.GCA_000769575.1_ASM76957v1_genomic</td>\n      <td>gnl|CDD|225995</td>\n      <td>0.903226</td>\n      <td>1.000000</td>\n      <td>38.72</td>\n      <td>4.020000e-118</td>\n    </tr>\n    <tr>\n      <th>655</th>\n      <td>3.GCA_001548295.1_ASM154829v1_genomic</td>\n      <td>gnl|CDD|225511</td>\n      <td>0.872549</td>\n      <td>0.801724</td>\n      <td>25.53</td>\n      <td>1.790000e-12</td>\n    </tr>\n    <tr>\n      <th>659</th>\n      <td>13.GCA_001640905.1_ASM164090v1_genomic</td>\n      <td>gnl|CDD|225382</td>\n      <td>0.984326</td>\n      <td>0.993711</td>\n      <td>33.13</td>\n      <td>1.750000e-50</td>\n    </tr>\n    <tr>\n      <th>665</th>\n      <td>4.GCA_001956755.1_ASM195675v1_genomic</td>\n      <td>gnl|CDD|225382</td>\n      <td>0.953297</td>\n      <td>0.993711</td>\n      <td>34.29</td>\n      <td>3.840000e-68</td>\n    </tr>\n    <tr>\n      <th>818</th>\n      <td>1.GCA_014696415.1_ASM1469641v1_genomic</td>\n      <td>gnl|CDD|225995</td>\n      <td>0.831111</td>\n      <td>0.895522</td>\n      <td>31.02</td>\n      <td>1.500000e-71</td>\n    </tr>\n    <tr>\n      <th>827</th>\n      <td>0.GCA_019551175.1_ASM1955117v1_genomic</td>\n      <td>gnl|CDD|225303</td>\n      <td>0.901235</td>\n      <td>1.000000</td>\n      <td>43.84</td>\n      <td>2.480000e-25</td>\n    </tr>\n  </tbody>\n</table>\n</div>"
     },
     "execution_count": 8,
     "metadata": {},
     "output_type": "execute_result"
    }
   ],
   "source": [
    "new_df = df_sort_cov[['qseqid','sseqid','qcov','scov','ppos','evalue']].copy()\n",
    "new_df"
   ]
  },
  {
   "cell_type": "code",
   "execution_count": 9,
   "id": "eafe2fa4",
   "metadata": {
    "pycharm": {
     "name": "#%%\n"
    }
   },
   "outputs": [
    {
     "data": {
      "text/plain": "                                     qseqid  qstart  qend  qlen  \\\n777  17.GCA_008620055.1_ASM862005v1_genomic      51    58    74   \n\n             sseqid  sstart  send  slen  evalue   ppos  slen_2  qlen_2  \\\n777  gnl|CDD|223993     250   257   456     2.5  100.0       7       7   \n\n         qcov      scov  \n777  0.108108  0.017544  ",
      "text/html": "<div>\n<style scoped>\n    .dataframe tbody tr th:only-of-type {\n        vertical-align: middle;\n    }\n\n    .dataframe tbody tr th {\n        vertical-align: top;\n    }\n\n    .dataframe thead th {\n        text-align: right;\n    }\n</style>\n<table border=\"1\" class=\"dataframe\">\n  <thead>\n    <tr style=\"text-align: right;\">\n      <th></th>\n      <th>qseqid</th>\n      <th>qstart</th>\n      <th>qend</th>\n      <th>qlen</th>\n      <th>sseqid</th>\n      <th>sstart</th>\n      <th>send</th>\n      <th>slen</th>\n      <th>evalue</th>\n      <th>ppos</th>\n      <th>slen_2</th>\n      <th>qlen_2</th>\n      <th>qcov</th>\n      <th>scov</th>\n    </tr>\n  </thead>\n  <tbody>\n    <tr>\n      <th>777</th>\n      <td>17.GCA_008620055.1_ASM862005v1_genomic</td>\n      <td>51</td>\n      <td>58</td>\n      <td>74</td>\n      <td>gnl|CDD|223993</td>\n      <td>250</td>\n      <td>257</td>\n      <td>456</td>\n      <td>2.5</td>\n      <td>100.0</td>\n      <td>7</td>\n      <td>7</td>\n      <td>0.108108</td>\n      <td>0.017544</td>\n    </tr>\n  </tbody>\n</table>\n</div>"
     },
     "execution_count": 9,
     "metadata": {},
     "output_type": "execute_result"
    }
   ],
   "source": [
    "ppos_df = df[df['ppos'] > 80]\n",
    "ppos_df"
   ]
  },
  {
   "cell_type": "code",
   "execution_count": 24,
   "id": "ff8d827e",
   "metadata": {
    "pycharm": {
     "name": "#%%\n"
    }
   },
   "outputs": [],
   "source": []
  },
  {
   "cell_type": "code",
   "execution_count": 25,
   "id": "776173d9",
   "metadata": {
    "pycharm": {
     "name": "#%%\n"
    }
   },
   "outputs": [],
   "source": [
    "cdd_id = set()\n",
    "with open('/home/dana/Desktop/p_sa/results/rpsblast/20/res.txt', 'rt') as f:\n",
    "    for line in f:\n",
    "        if 'Transposase' in line and line.startswith(\"CDD:\"):\n",
    "            cdd_id.add(line[4:10])"
   ]
  },
  {
   "cell_type": "code",
   "execution_count": 19,
   "id": "44053d70",
   "metadata": {
    "pycharm": {
     "name": "#%%\n"
    }
   },
   "outputs": [],
   "source": [
    "seq_ids = set()\n",
    "with open('/home/dana/Desktop/p_sa/results/rpsblast/20/res_fmt_len.txt', 'rt') as f:\n",
    "    for line in f:\n",
    "        for cdd in cdd_id:\n",
    "            if cdd in line:\n",
    "                seq_ids.add(line.split(\"\\t\")[0])\n",
    "                break"
   ]
  },
  {
   "cell_type": "code",
   "execution_count": 19,
   "outputs": [],
   "source": [],
   "metadata": {
    "collapsed": false,
    "pycharm": {
     "name": "#%%\n"
    }
   }
  },
  {
   "cell_type": "code",
   "execution_count": 20,
   "id": "0bdb8c21",
   "metadata": {
    "pycharm": {
     "name": "#%%\n"
    }
   },
   "outputs": [],
   "source": [
    "from clustr_filter import cluster_id\n",
    "extracted_rep_seqs_ids, counts = cluster_id(\"/home/dana/Desktop/p_sa/results/cd-hit/cd-hit-2.clstr\", 20)"
   ]
  },
  {
   "cell_type": "code",
   "execution_count": 21,
   "id": "92431251",
   "metadata": {
    "pycharm": {
     "name": "#%%\n"
    }
   },
   "outputs": [],
   "source": [
    "a = []\n",
    "for i, rep_seq in enumerate(extracted_rep_seqs_ids):\n",
    "    for seq_id in seq_ids:\n",
    "        if rep_seq in seq_id:\n",
    "            a.append(counts[i])"
   ]
  },
  {
   "cell_type": "code",
   "execution_count": 23,
   "outputs": [
    {
     "data": {
      "text/plain": "11442"
     },
     "execution_count": 23,
     "metadata": {},
     "output_type": "execute_result"
    }
   ],
   "source": [
    "import numpy as np\n",
    "np.sum(a)"
   ],
   "metadata": {
    "collapsed": false,
    "pycharm": {
     "name": "#%%\n"
    }
   }
  },
  {
   "cell_type": "code",
   "execution_count": 24,
   "outputs": [
    {
     "data": {
      "text/plain": "76"
     },
     "execution_count": 24,
     "metadata": {},
     "output_type": "execute_result"
    }
   ],
   "source": [],
   "metadata": {
    "collapsed": false,
    "pycharm": {
     "name": "#%%\n"
    }
   }
  },
  {
   "cell_type": "code",
   "execution_count": null,
   "outputs": [],
   "source": [],
   "metadata": {
    "collapsed": false,
    "pycharm": {
     "name": "#%%\n"
    }
   }
  },
  {
   "cell_type": "code",
   "execution_count": null,
   "outputs": [],
   "source": [],
   "metadata": {
    "collapsed": false,
    "pycharm": {
     "name": "#%%\n"
    }
   }
  }
 ],
 "metadata": {
  "kernelspec": {
   "display_name": "Python 3 (ipykernel)",
   "language": "python",
   "name": "python3"
  },
  "language_info": {
   "codemirror_mode": {
    "name": "ipython",
    "version": 3
   },
   "file_extension": ".py",
   "mimetype": "text/x-python",
   "name": "python",
   "nbconvert_exporter": "python",
   "pygments_lexer": "ipython3",
   "version": "3.9.12"
  }
 },
 "nbformat": 4,
 "nbformat_minor": 5
}